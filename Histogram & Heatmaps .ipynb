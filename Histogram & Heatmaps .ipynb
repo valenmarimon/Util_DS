{
 "cells": [
  {
   "cell_type": "code",
   "execution_count": null,
   "id": "1ed15756",
   "metadata": {},
   "outputs": [],
   "source": [
    "# Importamos librerías: pandas, numpy, seaborn, matplotlib\n",
    "import pandas as pd\n",
    "import numpy as np\n",
    "import seaborn as sns\n",
    "import matplotlib.pyplot as plt\n",
    "\n",
    "\n",
    "# Importamos el dataset\n",
    "df=pd.read_csv('https://raw.githubusercontent.com/rfordatascience/tidytuesday/master/data/2020/2020-01-21/spotify_songs.csv', parse_dates=['track_album_release_date'])\n",
    "df.head()\n",
    "\n",
    "# plot histogram with markers\n",
    "ax = sns.kdeplot(df['speechiness'], shade=False, color='crimson')\n",
    "kdeline = ax.lines[0]\n",
    "mean = df['speechiness'].mean()\n",
    "median = df['speechiness'].median()\n",
    "xs = kdeline.get_xdata()\n",
    "ys = kdeline.get_ydata()\n",
    "height = np.interp(mean, xs, ys)\n",
    "height1 = np.interp(median, xs, ys)\n",
    "ax.vlines(mean, 0, height, color='crimson', ls=':')\n",
    "ax.vlines(median, 0, height1, color='darkviolet', ls=':')\n",
    "ax.fill_between(xs, 0, ys, facecolor='crimson', alpha=0.2)\n",
    "plt.show()\n",
    "\n",
    "\n",
    "# excluyendo valores anomalos\n",
    "q75,q25=df['speechiness'].quantile([0.75,0.25])\n",
    "iqr=q75-q25\n",
    "min=q25-(iqr*1.5)\n",
    "max=q75+(iqr*1.5)\n",
    "\n",
    "df_filtered=df[(df['speechiness']>min)&(df['speechiness']<max)]\n",
    "\n",
    "\n",
    "# Funcion para heatmap con porcentajes\n",
    "def plot_corre_heatmap(corr):\n",
    "    '''\n",
    "    Definimos una función para ayudarnos a graficar un heatmap de correlación\n",
    "    '''\n",
    "    plt.figure(figsize=(12,10))\n",
    "    sns.heatmap(corr, cbar = True,  square = False, annot=True, fmt= '.2f'\n",
    "                ,annot_kws={'size': 15},cmap= 'coolwarm')\n",
    "    plt.xticks(rotation = 45)\n",
    "    plt.yticks(rotation = 45)\n",
    "    # Arreglamos un pequeño problema de visualización\n",
    "    b, t = plt.ylim() # discover the values for bottom and top\n",
    "    b += 0.5 # Add 0.5 to the bottom\n",
    "    t -= 0.5 # Subtract 0.5 from the top\n",
    "    plt.ylim(b, t) # update the ylim(bottom, top) values\n",
    "    plt.show()\n",
    "\n",
    "corr = df.corr()\n",
    "plot_corre_heatmap(corr)"
   ]
  }
 ],
 "metadata": {
  "kernelspec": {
   "display_name": "Python 3",
   "language": "python",
   "name": "python3"
  },
  "language_info": {
   "codemirror_mode": {
    "name": "ipython",
    "version": 3
   },
   "file_extension": ".py",
   "mimetype": "text/x-python",
   "name": "python",
   "nbconvert_exporter": "python",
   "pygments_lexer": "ipython3",
   "version": "3.8.8"
  }
 },
 "nbformat": 4,
 "nbformat_minor": 5
}
